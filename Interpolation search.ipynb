{
 "cells": [
  {
   "cell_type": "markdown",
   "metadata": {},
   "source": [
    "# Interpolation search\n",
    "### Introduction\n",
    "The background to the interpolation search is described in **MOD007357 Coursework Brief 2021-22 (Task a)**, as search algorithm for sorted arrays to find the position of a search value. The task is to compare search performance for three strategies:\n",
    "\n",
    "1. Pure interpolation search\n",
    "2. Mixed interpolation search and binary search\n",
    "3. Pure binary search\n",
    "\n",
    "### Implementation summary\n",
    "The seearch algorithms have been implemented in the *python* programming language, and can be applied to an input array by initialising an `ArraySearcher` class with the array, and calling the class' `search()` method - providing a search strategy input.\n",
    "\n",
    "### ZIP archive\n",
    "The code output of running the `main()` method can be found in the associated ZIP archive (`interpolation-search.zip`). Contents:\n",
    "\n",
    "```\n",
    "interpolation-search.zip\n",
    "  - Interpolation search.html\n",
    "  - Interpolation search.ipynb\n",
    "  - interpolation_search.py\n",
    "  - README.md\n",
    "  - environment.yml\n",
    "  results/\n",
    "    - arithmetic_comparison.png\n",
    "    - arithmetic_results.csv\n",
    "    - geometric_comparison.png\n",
    "    - geometric_results.csv\n",
    "    - progression_space_comparison.png\n",
    "```\n",
    "\n",
    "### Dependencies\n",
    "The `conda` environment required to run the `interpolation_search.py` code, and this notebook, can be recreated from the *environment.yml* file in the ZIP archive, and activated as follows:\n",
    "\n",
    "```bash\n",
    "conda env create -f environment.yml\n",
    "conda activate interpolation-search\n",
    "```\n",
    "\n",
    "We can use a jupyter 'magic' command to generate the *environment.yml* file."
   ]
  },
  {
   "cell_type": "code",
   "execution_count": 1,
   "metadata": {},
   "outputs": [],
   "source": [
    "!conda env export --from-history > environment.yml"
   ]
  },
  {
   "cell_type": "markdown",
   "metadata": {},
   "source": [
    "### Notebook\n",
    "This notebook was created within the same python `conda` environment used to run the `interpolation_search.py`.\n",
    "\n",
    "To generate the PDF version, the notebook was exported to HTML format and then printed to PDF format from Google Chrome.\n",
    "\n",
    "### Imports"
   ]
  },
  {
   "cell_type": "code",
   "execution_count": 2,
   "metadata": {},
   "outputs": [],
   "source": [
    "from matplotlib import pyplot as plt\n",
    "import pandas as pd\n",
    "import seaborn as sns\n",
    "from tqdm import tqdm\n",
    "\n",
    "from interpolation_search import ArraySearcher\n",
    "from interpolation_search import generate_random_array\n",
    "from interpolation_search import run_cardinality_tests, plot_cardinality_tests\n",
    "\n",
    "pd.set_option('display.max_rows', 10)  # Keep table displays short\n",
    "sns.set_context('talk')  # Make seaborn plots have good font sizes, line widths, etc "
   ]
  },
  {
   "cell_type": "markdown",
   "metadata": {},
   "source": [
    "### Walkthrough example\n",
    "\n",
    "An example of each of our 3 searching algorithms can be seen below for a single input array.\n",
    "\n",
    "#### Input parameters"
   ]
  },
  {
   "cell_type": "code",
   "execution_count": 3,
   "metadata": {},
   "outputs": [],
   "source": [
    "CARDINALITY = 50\n",
    "SPACE = 'arithmetic'\n",
    "START_RANGE = (1, 10000)\n",
    "STEP_RANGE = (1, 10000)"
   ]
  },
  {
   "cell_type": "markdown",
   "metadata": {},
   "source": [
    "#### Generate the array\n",
    "The `generate_random_array()` function can be used to generate random arrays by sampling from larger random (arithmetic or geometric) progressions. But by default (*sample_space_scale* argument as None) it will provide the progressions directly.  This is how we will use it here to demonstrate the performance of the searching algorithms."
   ]
  },
  {
   "cell_type": "code",
   "execution_count": 4,
   "metadata": {},
   "outputs": [
    {
     "name": "stdout",
     "output_type": "stream",
     "text": [
      "[1174, 3265, 5356, 7447, 9538, 11629, 13720, 15811, 17902, 19993, 22084, 24175, 26266, 28357, 30448, 32539, 34630, 36721, 38812, 40903, 42994, 45085, 47176, 49267, 51358, 53449, 55540, 57631, 59722, 61813, 63904, 65995, 68086, 70177, 72268, 74359, 76450, 78541, 80632, 82723, 84814, 86905, 88996, 91087, 93178, 95269, 97360, 99451, 101542, 103633]\n"
     ]
    }
   ],
   "source": [
    "array = generate_random_array(cardinality=CARDINALITY, space=SPACE, start_range=START_RANGE, step_range=STEP_RANGE)\n",
    "print(array)"
   ]
  },
  {
   "cell_type": "markdown",
   "metadata": {},
   "source": [
    "#### Make an ArraySearcher\n",
    "The `ArraySearcher` class will ensure any array passed to it is sorted before applying a search algorithm (not necessary for our example).  Once initialised, it can also choose its own *query_val*."
   ]
  },
  {
   "cell_type": "code",
   "execution_count": 5,
   "metadata": {},
   "outputs": [
    {
     "name": "stdout",
     "output_type": "stream",
     "text": [
      "26266\n"
     ]
    }
   ],
   "source": [
    "searcher = ArraySearcher(array)\n",
    "query_val = searcher.get_random_array_item()\n",
    "print(query_val)"
   ]
  },
  {
   "cell_type": "markdown",
   "metadata": {},
   "source": [
    "#### Apply each search algorithm in turn"
   ]
  },
  {
   "cell_type": "code",
   "execution_count": 6,
   "metadata": {},
   "outputs": [
    {
     "name": "stdout",
     "output_type": "stream",
     "text": [
      "Iteration:   0 | Starting info        | Query value: 26266 | Bottom index:  0 | Top index: 49 | Bottom value:   1174 | Top value: 103633\n",
      "The query value (26266) was found at index 12 (of the sorted array) after 1 iteration(s)\n",
      "With interpolation method it took 1 search step(s) to find the query value.\n",
      "Iteration:   0 | Starting info        | Query value: 26266 | Bottom index:  0 | Top index: 49 | Bottom value:   1174 | Top value: 103633\n",
      "The query value (26266) was found at index 12 (of the sorted array) after 1 iteration(s)\n",
      "With mixed method it took 1 search step(s) to find the query value.\n",
      "Iteration:   0 | Starting info        | Query value: 26266 | Bottom index:  0 | Top index: 49 | Bottom value:   1174 | Top value: 103633\n",
      "The query value (26266) was found at index 12 (of the sorted array) after 5 iteration(s)\n",
      "With binary method it took 5 search step(s) to find the query value.\n"
     ]
    }
   ],
   "source": [
    "results = searcher.compare_methods(query_val, verbose=True)"
   ]
  },
  {
   "cell_type": "markdown",
   "metadata": {},
   "source": [
    "Running the `compare_methods()` function returns a dictionary that summarises number of iterations used by each method to find the *query_val*."
   ]
  },
  {
   "cell_type": "code",
   "execution_count": 7,
   "metadata": {},
   "outputs": [
    {
     "data": {
      "text/plain": [
       "{'interpolation': 1, 'mixed': 1, 'binary': 5}"
      ]
     },
     "execution_count": 7,
     "metadata": {},
     "output_type": "execute_result"
    }
   ],
   "source": [
    "results"
   ]
  },
  {
   "cell_type": "markdown",
   "metadata": {},
   "source": [
    "### Testing increasing cardinalities\n",
    "It is interesting to see how the different methods compare as we increase the length (cardinality) of the input array.  To do this, we can make use of the `run_cardinality_tests()` method from `interpolation_search.py`."
   ]
  },
  {
   "cell_type": "code",
   "execution_count": 8,
   "metadata": {},
   "outputs": [],
   "source": [
    "def run_cardinality_tests(space='arithmetic', repeats=1000, top_power=10):\n",
    "    \"\"\"Runs repeated tests on a series of doubling cardinality values.\n",
    "    \n",
    "    A new progression is generated for each repeat, and all 3 splitting methods are compared.\n",
    "\n",
    "    Args:\n",
    "        space (str, optional): Whether to test 'arithmetic' or 'geometric' progressions.\n",
    "                               Defaults to 'arithmetic'.\n",
    "        repeats (int, optional): Number of repeats. Defaults to 1000.\n",
    "        top_power (int, optional): Final value to use for the doubling progression (2**top_power).\n",
    "\n",
    "    Returns:\n",
    "        list[dicts]: A list of dictionaries of length 'repeats'.\n",
    "                     Keys are the method names, plus 'cardinality'.\n",
    "                     Values are the method absolute subset differences, plus cardinality\n",
    "    \"\"\"\n",
    "    testing_results = []\n",
    "    for cardinality in [2**n for n in range(top_power + 1)]:\n",
    "        for _ in tqdm(range(repeats)):\n",
    "            array = generate_random_array(cardinality=cardinality, space=space)\n",
    "            searcher = ArraySearcher(array)\n",
    "            query_val = searcher.get_random_array_item()\n",
    "            results = searcher.compare_methods(query_val)\n",
    "            results['cardinality'] = cardinality\n",
    "            testing_results.append(results)\n",
    "\n",
    "    return testing_results"
   ]
  },
  {
   "cell_type": "markdown",
   "metadata": {},
   "source": [
    "This convenience function will progress through doubling cardinality values from 2<sup>0</sup> (1) to 2<sup>top_power</sup>.  For each value, *repeats* repeats are made of the following steps\n",
    "* Generate a random progression\n",
    "* Choose a random item to search for\n",
    "* Compare the 3 search methods"
   ]
  },
  {
   "cell_type": "markdown",
   "metadata": {},
   "source": [
    "#### Input parameters"
   ]
  },
  {
   "cell_type": "code",
   "execution_count": 9,
   "metadata": {},
   "outputs": [],
   "source": [
    "SPACE = 'arithmetic'\n",
    "REPEATS = 1000\n",
    "TOP_POWER = 10 # 2**10 = 1024"
   ]
  },
  {
   "cell_type": "markdown",
   "metadata": {},
   "source": [
    "#### Run the tests\n",
    "The `run_cardinality_tests()` method uses `tqdm` to add a progress bar to each set of repeats.  Not very useful here, but more useful if testing is taking a long time."
   ]
  },
  {
   "cell_type": "code",
   "execution_count": 10,
   "metadata": {},
   "outputs": [
    {
     "name": "stderr",
     "output_type": "stream",
     "text": [
      "100%|██████████| 1000/1000 [00:00<00:00, 67856.92it/s]\n",
      "100%|██████████| 1000/1000 [00:00<00:00, 71991.62it/s]\n",
      "100%|██████████| 1000/1000 [00:00<00:00, 62047.75it/s]\n",
      "100%|██████████| 1000/1000 [00:00<00:00, 38134.20it/s]\n",
      "100%|██████████| 1000/1000 [00:00<00:00, 65115.80it/s]\n",
      "100%|██████████| 1000/1000 [00:00<00:00, 28114.78it/s]\n",
      "100%|██████████| 1000/1000 [00:00<00:00, 9985.18it/s]\n",
      "100%|██████████| 1000/1000 [00:00<00:00, 11384.32it/s]\n",
      "100%|██████████| 1000/1000 [00:00<00:00, 9140.51it/s]\n",
      "100%|██████████| 1000/1000 [00:00<00:00, 11434.48it/s]\n",
      "100%|██████████| 1000/1000 [00:00<00:00, 7493.33it/s]\n"
     ]
    }
   ],
   "source": [
    "arithmetic_results = run_cardinality_tests(space=SPACE, repeats=REPEATS, top_power=TOP_POWER)"
   ]
  },
  {
   "cell_type": "code",
   "execution_count": 11,
   "metadata": {},
   "outputs": [
    {
     "data": {
      "text/html": [
       "<div>\n",
       "<style scoped>\n",
       "    .dataframe tbody tr th:only-of-type {\n",
       "        vertical-align: middle;\n",
       "    }\n",
       "\n",
       "    .dataframe tbody tr th {\n",
       "        vertical-align: top;\n",
       "    }\n",
       "\n",
       "    .dataframe thead th {\n",
       "        text-align: right;\n",
       "    }\n",
       "</style>\n",
       "<table border=\"1\" class=\"dataframe\">\n",
       "  <thead>\n",
       "    <tr style=\"text-align: right;\">\n",
       "      <th></th>\n",
       "      <th>interpolation</th>\n",
       "      <th>mixed</th>\n",
       "      <th>binary</th>\n",
       "      <th>cardinality</th>\n",
       "    </tr>\n",
       "  </thead>\n",
       "  <tbody>\n",
       "    <tr>\n",
       "      <th>0</th>\n",
       "      <td>0</td>\n",
       "      <td>0</td>\n",
       "      <td>0</td>\n",
       "      <td>1</td>\n",
       "    </tr>\n",
       "    <tr>\n",
       "      <th>1</th>\n",
       "      <td>0</td>\n",
       "      <td>0</td>\n",
       "      <td>0</td>\n",
       "      <td>1</td>\n",
       "    </tr>\n",
       "    <tr>\n",
       "      <th>2</th>\n",
       "      <td>0</td>\n",
       "      <td>0</td>\n",
       "      <td>0</td>\n",
       "      <td>1</td>\n",
       "    </tr>\n",
       "    <tr>\n",
       "      <th>3</th>\n",
       "      <td>0</td>\n",
       "      <td>0</td>\n",
       "      <td>0</td>\n",
       "      <td>1</td>\n",
       "    </tr>\n",
       "    <tr>\n",
       "      <th>4</th>\n",
       "      <td>0</td>\n",
       "      <td>0</td>\n",
       "      <td>0</td>\n",
       "      <td>1</td>\n",
       "    </tr>\n",
       "    <tr>\n",
       "      <th>...</th>\n",
       "      <td>...</td>\n",
       "      <td>...</td>\n",
       "      <td>...</td>\n",
       "      <td>...</td>\n",
       "    </tr>\n",
       "    <tr>\n",
       "      <th>10995</th>\n",
       "      <td>1</td>\n",
       "      <td>1</td>\n",
       "      <td>9</td>\n",
       "      <td>1024</td>\n",
       "    </tr>\n",
       "    <tr>\n",
       "      <th>10996</th>\n",
       "      <td>1</td>\n",
       "      <td>1</td>\n",
       "      <td>9</td>\n",
       "      <td>1024</td>\n",
       "    </tr>\n",
       "    <tr>\n",
       "      <th>10997</th>\n",
       "      <td>1</td>\n",
       "      <td>1</td>\n",
       "      <td>2</td>\n",
       "      <td>1024</td>\n",
       "    </tr>\n",
       "    <tr>\n",
       "      <th>10998</th>\n",
       "      <td>1</td>\n",
       "      <td>1</td>\n",
       "      <td>6</td>\n",
       "      <td>1024</td>\n",
       "    </tr>\n",
       "    <tr>\n",
       "      <th>10999</th>\n",
       "      <td>1</td>\n",
       "      <td>1</td>\n",
       "      <td>6</td>\n",
       "      <td>1024</td>\n",
       "    </tr>\n",
       "  </tbody>\n",
       "</table>\n",
       "<p>11000 rows × 4 columns</p>\n",
       "</div>"
      ],
      "text/plain": [
       "       interpolation  mixed  binary  cardinality\n",
       "0                  0      0       0            1\n",
       "1                  0      0       0            1\n",
       "2                  0      0       0            1\n",
       "3                  0      0       0            1\n",
       "4                  0      0       0            1\n",
       "...              ...    ...     ...          ...\n",
       "10995              1      1       9         1024\n",
       "10996              1      1       9         1024\n",
       "10997              1      1       2         1024\n",
       "10998              1      1       6         1024\n",
       "10999              1      1       6         1024\n",
       "\n",
       "[11000 rows x 4 columns]"
      ]
     },
     "execution_count": 11,
     "metadata": {},
     "output_type": "execute_result"
    }
   ],
   "source": [
    "arithmetic_df = pd.DataFrame(arithmetic_results)\n",
    "arithmetic_df"
   ]
  },
  {
   "cell_type": "markdown",
   "metadata": {},
   "source": [
    "#### Plotting\n",
    "The above shape of the data is convenient for readability, but not so good for certain plotting approaches.  The `seaborn` package makes plotting data (including data from a `pandas.DataFrame`) easy, but it is best to provide the data in a \"tall, skinny\" format."
   ]
  },
  {
   "cell_type": "markdown",
   "metadata": {},
   "source": [
    "#### Convert raw results into tall-skinny DataFrame\n",
    "The raw data can be unpivotted using `pandas.melt()`.  This gives us the tall, skinny version of the output data where each method appears not as a column, but as a value in a single 'method' column."
   ]
  },
  {
   "cell_type": "code",
   "execution_count": 12,
   "metadata": {},
   "outputs": [
    {
     "data": {
      "text/html": [
       "<div>\n",
       "<style scoped>\n",
       "    .dataframe tbody tr th:only-of-type {\n",
       "        vertical-align: middle;\n",
       "    }\n",
       "\n",
       "    .dataframe tbody tr th {\n",
       "        vertical-align: top;\n",
       "    }\n",
       "\n",
       "    .dataframe thead th {\n",
       "        text-align: right;\n",
       "    }\n",
       "</style>\n",
       "<table border=\"1\" class=\"dataframe\">\n",
       "  <thead>\n",
       "    <tr style=\"text-align: right;\">\n",
       "      <th></th>\n",
       "      <th>cardinality</th>\n",
       "      <th>method</th>\n",
       "      <th>iterations</th>\n",
       "    </tr>\n",
       "  </thead>\n",
       "  <tbody>\n",
       "    <tr>\n",
       "      <th>0</th>\n",
       "      <td>1</td>\n",
       "      <td>interpolation</td>\n",
       "      <td>0</td>\n",
       "    </tr>\n",
       "    <tr>\n",
       "      <th>1</th>\n",
       "      <td>1</td>\n",
       "      <td>interpolation</td>\n",
       "      <td>0</td>\n",
       "    </tr>\n",
       "    <tr>\n",
       "      <th>2</th>\n",
       "      <td>1</td>\n",
       "      <td>interpolation</td>\n",
       "      <td>0</td>\n",
       "    </tr>\n",
       "    <tr>\n",
       "      <th>3</th>\n",
       "      <td>1</td>\n",
       "      <td>interpolation</td>\n",
       "      <td>0</td>\n",
       "    </tr>\n",
       "    <tr>\n",
       "      <th>4</th>\n",
       "      <td>1</td>\n",
       "      <td>interpolation</td>\n",
       "      <td>0</td>\n",
       "    </tr>\n",
       "    <tr>\n",
       "      <th>...</th>\n",
       "      <td>...</td>\n",
       "      <td>...</td>\n",
       "      <td>...</td>\n",
       "    </tr>\n",
       "    <tr>\n",
       "      <th>32995</th>\n",
       "      <td>1024</td>\n",
       "      <td>binary</td>\n",
       "      <td>9</td>\n",
       "    </tr>\n",
       "    <tr>\n",
       "      <th>32996</th>\n",
       "      <td>1024</td>\n",
       "      <td>binary</td>\n",
       "      <td>9</td>\n",
       "    </tr>\n",
       "    <tr>\n",
       "      <th>32997</th>\n",
       "      <td>1024</td>\n",
       "      <td>binary</td>\n",
       "      <td>2</td>\n",
       "    </tr>\n",
       "    <tr>\n",
       "      <th>32998</th>\n",
       "      <td>1024</td>\n",
       "      <td>binary</td>\n",
       "      <td>6</td>\n",
       "    </tr>\n",
       "    <tr>\n",
       "      <th>32999</th>\n",
       "      <td>1024</td>\n",
       "      <td>binary</td>\n",
       "      <td>6</td>\n",
       "    </tr>\n",
       "  </tbody>\n",
       "</table>\n",
       "<p>33000 rows × 3 columns</p>\n",
       "</div>"
      ],
      "text/plain": [
       "       cardinality         method  iterations\n",
       "0                1  interpolation           0\n",
       "1                1  interpolation           0\n",
       "2                1  interpolation           0\n",
       "3                1  interpolation           0\n",
       "4                1  interpolation           0\n",
       "...            ...            ...         ...\n",
       "32995         1024         binary           9\n",
       "32996         1024         binary           9\n",
       "32997         1024         binary           2\n",
       "32998         1024         binary           6\n",
       "32999         1024         binary           6\n",
       "\n",
       "[33000 rows x 3 columns]"
      ]
     },
     "execution_count": 12,
     "metadata": {},
     "output_type": "execute_result"
    }
   ],
   "source": [
    "tall_df = pd.melt(arithmetic_df, id_vars=['cardinality'],\n",
    "                  var_name='method', value_name='iterations')\n",
    "tall_df"
   ]
  },
  {
   "cell_type": "code",
   "execution_count": 13,
   "metadata": {},
   "outputs": [
    {
     "data": {
      "text/plain": [
       "1000"
      ]
     },
     "execution_count": 13,
     "metadata": {},
     "output_type": "execute_result"
    }
   ],
   "source": [
    "tall_df.groupby(['method', 'cardinality']).agg('size')[0]"
   ]
  },
  {
   "cell_type": "markdown",
   "metadata": {},
   "source": [
    "#### Plot\n",
    "Seaborn's `lineplot()` method is an appropriate choice.  This method will plot the mean of the data, and can automatically show variation from the mean in a number of ways.  As we are probably most interested in how confident we are in the predicted mean values, 95% confidence intervals have been chosen (rather than standard deviations)."
   ]
  },
  {
   "cell_type": "code",
   "execution_count": 14,
   "metadata": {},
   "outputs": [
    {
     "data": {
      "image/png": "[encoded data removed]",
      "text/plain": [
       "<Figure size 864x648 with 1 Axes>"
      ]
     },
     "metadata": {},
     "output_type": "display_data"
    }
   ],
   "source": [
    "fig, ax = plt.subplots(figsize=(12, 9), facecolor='white')\n",
    "ax = sns.lineplot(data=tall_df, x='cardinality', y='iterations', hue='method', ci=95)\n",
    "ax.set_xlabel('progression cardinality')\n",
    "ax.set_xscale('log', base=2)\n",
    "ax.set_ylabel('mean number of iterations')\n",
    "# Get repeats\n",
    "repeats = len(arithmetic_df)\n",
    "# Underscore assignment to supress Text object output\n",
    "_ = ax.set_title(f'Method comparison for arithmetic progressions ({REPEATS} repeats)')"
   ]
  },
  {
   "cell_type": "markdown",
   "metadata": {},
   "source": [
    "Both of the above steps can be conveniently run by calling the `plot_cardinality_tests()` method from `partition_problem.py`.  The inputs to this function are simply the raw result dictionary list, and the list of cardinality values used to generate the results:\n",
    "\n",
    "```python\n",
    "fig = plot_cardinality_tests(results=arithmetic_results)\n",
    "```"
   ]
  },
  {
   "cell_type": "markdown",
   "metadata": {},
   "source": [
    "#### Discussion\n",
    "It is clear that the pure binary search method takes an increasing number of iterations to find the *query_val*; whereas both the pure interpolation search and the mixed method (overlapped) take a constant amount of time regardless of the cardinality (on average 1 iteration).  Obviously, the trivial case of cardinality = 1 takes zero iterations for all 3 methods!"
   ]
  },
  {
   "cell_type": "markdown",
   "metadata": {},
   "source": [
    "### Testing geometric progressions\n",
    "So far, we have only looked at the performance of the search methods when searching in arithmetic progressions.  What about if we are looking instead in geometric progressions (ie where each subsequent value in the progression is a fixed multiple of the value before).\n",
    "\n",
    "The above convenience functions can be used with `space='geometric'` instead of `space='arithmetic'`."
   ]
  },
  {
   "cell_type": "markdown",
   "metadata": {},
   "source": [
    "#### Input parameters"
   ]
  },
  {
   "cell_type": "code",
   "execution_count": 15,
   "metadata": {},
   "outputs": [],
   "source": [
    "SPACE = 'geometric'\n",
    "REPEATS = 1000\n",
    "TOP_POWER = 10 # 2**10 = 1024"
   ]
  },
  {
   "cell_type": "markdown",
   "metadata": {},
   "source": [
    "#### Run the tests"
   ]
  },
  {
   "cell_type": "code",
   "execution_count": 16,
   "metadata": {},
   "outputs": [
    {
     "name": "stderr",
     "output_type": "stream",
     "text": [
      "100%|██████████| 1000/1000 [00:00<00:00, 84596.69it/s]\n",
      "100%|██████████| 1000/1000 [00:00<00:00, 46995.00it/s]\n",
      "100%|██████████| 1000/1000 [00:00<00:00, 34463.72it/s]\n",
      "100%|██████████| 1000/1000 [00:00<00:00, 25869.05it/s]\n",
      "100%|██████████| 1000/1000 [00:00<00:00, 14790.60it/s]\n",
      "100%|██████████| 1000/1000 [00:00<00:00, 10782.19it/s]\n",
      "100%|██████████| 1000/1000 [00:00<00:00, 5844.51it/s]\n",
      "100%|██████████| 1000/1000 [00:00<00:00, 2788.70it/s]\n",
      "100%|██████████| 1000/1000 [00:01<00:00, 873.66it/s]\n",
      "100%|██████████| 1000/1000 [00:04<00:00, 213.12it/s]\n",
      "100%|██████████| 1000/1000 [00:14<00:00, 68.76it/s]\n"
     ]
    }
   ],
   "source": [
    "geometric_results = run_cardinality_tests(space=SPACE, repeats=REPEATS, top_power=TOP_POWER)"
   ]
  },
  {
   "cell_type": "markdown",
   "metadata": {},
   "source": [
    "Simply by looking at the time taken per iteration above, we can see geometric progressions give some extra problems."
   ]
  },
  {
   "cell_type": "markdown",
   "metadata": {},
   "source": [
    "#### Plotting"
   ]
  },
  {
   "cell_type": "code",
   "execution_count": 17,
   "metadata": {},
   "outputs": [
    {
     "data": {
      "image/png": "[encoded data removed]",
      "text/plain": [
       "<Figure size 864x648 with 1 Axes>"
      ]
     },
     "metadata": {},
     "output_type": "display_data"
    }
   ],
   "source": [
    "fig = plot_cardinality_tests(geometric_results, title='Method comparison for geometric progressions')"
   ]
  },
  {
   "cell_type": "markdown",
   "metadata": {},
   "source": [
    "#### Discussion\n",
    "It is immediately obvious that the interpolation search strategy is doing a really bad job for geometric progressions!"
   ]
  },
  {
   "cell_type": "markdown",
   "metadata": {},
   "source": [
    "### Bar plot comparison\n",
    "To get a better side-by-side comparison for the performance of the three methods on arithmetic vs geometric progressions, we can select one cardinality value and plot a bar chart."
   ]
  },
  {
   "cell_type": "markdown",
   "metadata": {},
   "source": [
    "#### Input parameters"
   ]
  },
  {
   "cell_type": "code",
   "execution_count": 18,
   "metadata": {},
   "outputs": [],
   "source": [
    "CARDINALITY = 1024"
   ]
  },
  {
   "cell_type": "markdown",
   "metadata": {},
   "source": [
    "#### Data processing"
   ]
  },
  {
   "cell_type": "code",
   "execution_count": 19,
   "metadata": {},
   "outputs": [
    {
     "data": {
      "text/html": [
       "<div>\n",
       "<style scoped>\n",
       "    .dataframe tbody tr th:only-of-type {\n",
       "        vertical-align: middle;\n",
       "    }\n",
       "\n",
       "    .dataframe tbody tr th {\n",
       "        vertical-align: top;\n",
       "    }\n",
       "\n",
       "    .dataframe thead th {\n",
       "        text-align: right;\n",
       "    }\n",
       "</style>\n",
       "<table border=\"1\" class=\"dataframe\">\n",
       "  <thead>\n",
       "    <tr style=\"text-align: right;\">\n",
       "      <th></th>\n",
       "      <th>space</th>\n",
       "      <th>cardinality</th>\n",
       "      <th>method</th>\n",
       "      <th>iterations</th>\n",
       "    </tr>\n",
       "  </thead>\n",
       "  <tbody>\n",
       "    <tr>\n",
       "      <th>0</th>\n",
       "      <td>arithmetic</td>\n",
       "      <td>1024</td>\n",
       "      <td>interpolation</td>\n",
       "      <td>1</td>\n",
       "    </tr>\n",
       "    <tr>\n",
       "      <th>1</th>\n",
       "      <td>arithmetic</td>\n",
       "      <td>1024</td>\n",
       "      <td>interpolation</td>\n",
       "      <td>1</td>\n",
       "    </tr>\n",
       "    <tr>\n",
       "      <th>2</th>\n",
       "      <td>arithmetic</td>\n",
       "      <td>1024</td>\n",
       "      <td>interpolation</td>\n",
       "      <td>1</td>\n",
       "    </tr>\n",
       "    <tr>\n",
       "      <th>3</th>\n",
       "      <td>arithmetic</td>\n",
       "      <td>1024</td>\n",
       "      <td>interpolation</td>\n",
       "      <td>1</td>\n",
       "    </tr>\n",
       "    <tr>\n",
       "      <th>4</th>\n",
       "      <td>arithmetic</td>\n",
       "      <td>1024</td>\n",
       "      <td>interpolation</td>\n",
       "      <td>1</td>\n",
       "    </tr>\n",
       "    <tr>\n",
       "      <th>...</th>\n",
       "      <td>...</td>\n",
       "      <td>...</td>\n",
       "      <td>...</td>\n",
       "      <td>...</td>\n",
       "    </tr>\n",
       "    <tr>\n",
       "      <th>5995</th>\n",
       "      <td>geometric</td>\n",
       "      <td>1024</td>\n",
       "      <td>binary</td>\n",
       "      <td>9</td>\n",
       "    </tr>\n",
       "    <tr>\n",
       "      <th>5996</th>\n",
       "      <td>geometric</td>\n",
       "      <td>1024</td>\n",
       "      <td>binary</td>\n",
       "      <td>9</td>\n",
       "    </tr>\n",
       "    <tr>\n",
       "      <th>5997</th>\n",
       "      <td>geometric</td>\n",
       "      <td>1024</td>\n",
       "      <td>binary</td>\n",
       "      <td>9</td>\n",
       "    </tr>\n",
       "    <tr>\n",
       "      <th>5998</th>\n",
       "      <td>geometric</td>\n",
       "      <td>1024</td>\n",
       "      <td>binary</td>\n",
       "      <td>9</td>\n",
       "    </tr>\n",
       "    <tr>\n",
       "      <th>5999</th>\n",
       "      <td>geometric</td>\n",
       "      <td>1024</td>\n",
       "      <td>binary</td>\n",
       "      <td>9</td>\n",
       "    </tr>\n",
       "  </tbody>\n",
       "</table>\n",
       "<p>6000 rows × 4 columns</p>\n",
       "</div>"
      ],
      "text/plain": [
       "           space  cardinality         method  iterations\n",
       "0     arithmetic         1024  interpolation           1\n",
       "1     arithmetic         1024  interpolation           1\n",
       "2     arithmetic         1024  interpolation           1\n",
       "3     arithmetic         1024  interpolation           1\n",
       "4     arithmetic         1024  interpolation           1\n",
       "...          ...          ...            ...         ...\n",
       "5995   geometric         1024         binary           9\n",
       "5996   geometric         1024         binary           9\n",
       "5997   geometric         1024         binary           9\n",
       "5998   geometric         1024         binary           9\n",
       "5999   geometric         1024         binary           9\n",
       "\n",
       "[6000 rows x 4 columns]"
      ]
     },
     "execution_count": 19,
     "metadata": {},
     "output_type": "execute_result"
    }
   ],
   "source": [
    "# (Re)make the arithmetic dataframe\n",
    "arithmetic_df = pd.DataFrame(arithmetic_results)\n",
    "# Add a new 'space' column\n",
    "arithmetic_df['space'] = ['arithmetic' for _ in range(len(arithmetic_df))]\n",
    "# Make the geometric dataframe\n",
    "geometric_df = pd.DataFrame(geometric_results)\n",
    "# Add a 'space' column\n",
    "geometric_df['space'] = ['geometric' for _ in range(len(geometric_df))]\n",
    "# Concatenate the two dataframes\n",
    "space_testing_df = pd.concat([arithmetic_df, geometric_df])\n",
    "# Select only rows with the chosen cardinality value\n",
    "space_testing_df = space_testing_df[space_testing_df.cardinality == CARDINALITY]\n",
    "# Make the tall df\n",
    "tall_df = pd.melt(space_testing_df, id_vars=['space', 'cardinality'], var_name='method', value_name='iterations')\n",
    "tall_df"
   ]
  },
  {
   "cell_type": "markdown",
   "metadata": {},
   "source": [
    "#### Plotting\n",
    "We will plot the y-axis on a log scale so that the the really poor interpolation performance doesn't dominate the plot."
   ]
  },
  {
   "cell_type": "code",
   "execution_count": 20,
   "metadata": {},
   "outputs": [
    {
     "data": {
      "image/png": "[encoded data removed]",
      "text/plain": [
       "<Figure size 864x648 with 1 Axes>"
      ]
     },
     "metadata": {},
     "output_type": "display_data"
    }
   ],
   "source": [
    "# Make the plot\n",
    "fig, ax = plt.subplots(figsize=(12, 9), facecolor='white')\n",
    "ax = sns.barplot(data=tall_df, x='space', y='iterations', hue='method')\n",
    "ax.set_xlabel('array space')\n",
    "ax.set_yscale('log', base=10)\n",
    "ax.set_ylabel('log(mean number of iterations)')\n",
    "# Add the title\n",
    "_ = ax.set_title(f'Comparison of arithmetic vs geometric progressions (cardinality {CARDINALITY})')"
   ]
  },
  {
   "cell_type": "markdown",
   "metadata": {},
   "source": [
    "Again, the above steps can be conveniently reproduced by using `plot_progression_comparison()` from `interpolation_search.py`.\n",
    "\n",
    "```python\n",
    "fig = plot_progression_comparison(arithmetic_results, geometric_results, cardinality=1024,\n",
    "                                  title='Comparison of arithmetic vs geometric progressions')"
   ]
  }
 ],
 "metadata": {
  "interpreter": {
   "hash": "20a857c29627ded6f440e87dbea4274010e68043cc0727bdcc3ecb7cc9e553d7"
  },
  "kernelspec": {
   "display_name": "Python 3.9.11 ('IST')",
   "language": "python",
   "name": "python3"
  },
  "language_info": {
   "codemirror_mode": {
    "name": "ipython",
    "version": 3
   },
   "file_extension": ".py",
   "mimetype": "text/x-python",
   "name": "python",
   "nbconvert_exporter": "python",
   "pygments_lexer": "ipython3",
   "version": "3.10.4"
  },
  "orig_nbformat": 4
 },
 "nbformat": 4,
 "nbformat_minor": 2
}
