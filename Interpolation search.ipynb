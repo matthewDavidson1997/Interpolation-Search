{
 "cells": [
  {
   "cell_type": "markdown",
   "metadata": {},
   "source": [
    "# Interpolation search\n",
    "### Introduction\n",
    "The background to the interpolation search is described in **MOD007357 Coursework Brief 2021-22 (Task a)**, as search algorithm for sorted arrays to find the position of a search value. The task is to compare search performance for three strategies:\n",
    "\n",
    "1. Pure interpolation search\n",
    "2. Mixed interpolation search and binary search\n",
    "3. Pure binary search\n",
    "\n",
    "### Implementation summary\n",
    "The seearch algorithms have been implemented in the *python* programming language, and can be applied to an input array by initialising an `ArraySearcher` class with the array, and calling the class' `search()` method - providing a search strategy input.\n",
    "\n",
    "### ZIP archive\n",
    "The code output of running the `main()` method can be found in the associated ZIP archive (`interpolation-search.zip`). Contents:\n",
    "\n",
    "```\n",
    "interpolation-search.zip\n",
    "  - Interpolation search.html\n",
    "  - Interpolation search.ipynb\n",
    "  - interpolation_search.py\n",
    "  - README.md\n",
    "  - environment.yml\n",
    "  results/\n",
    "    - comparison_pandas.png\n",
    "    - testing_df.csv\n",
    "```\n",
    "\n",
    "### Dependencies\n",
    "The `conda` environment required to run the `interpolation_search.py` code, and this notebook, can be recreated from the *environment.yml* file in the ZIP archive, and activated as follows:\n",
    "\n",
    "```bash\n",
    "conda env create -f environment.yml\n",
    "conda activate interpolation-search\n",
    "```\n",
    "\n",
    "We can use a jupyter 'magic' command to generate the *environment.yml* file."
   ]
  },
  {
   "cell_type": "code",
   "execution_count": 14,
   "metadata": {},
   "outputs": [],
   "source": [
    "!conda env export --from-history > environment.yml"
   ]
  },
  {
   "cell_type": "markdown",
   "metadata": {},
   "source": [
    "### Notebook\n",
    "This notebook was created within the same python `conda` environment used to run the `interpolation_search.py`.\n",
    "\n",
    "To generate the PDF version, the notebook was exported to HTML format and then printed to PDF format from Google Chrome.\n",
    "\n",
    "### Imports"
   ]
  },
  {
   "cell_type": "code",
   "execution_count": 15,
   "metadata": {},
   "outputs": [],
   "source": [
    "from matplotlib import pyplot as plt\n",
    "import pandas as pd\n",
    "import seaborn as sns\n",
    "\n",
    "from interpolation_search import ArraySearcher\n",
    "from interpolation_search import generate_random_array, run_tests\n",
    "\n",
    "pd.set_option('display.max_rows', 10)  # Keep table displays short\n",
    "sns.set_context('talk')  # Make seaborn plots have good font sizes, line widths, etc "
   ]
  },
  {
   "cell_type": "markdown",
   "metadata": {},
   "source": [
    "### Walkthrough examples\n",
    "\n",
    "An example of each of our 3 searching algorithms can be seen below for a single input array.\n",
    "\n",
    "#### Input parameters"
   ]
  },
  {
   "cell_type": "code",
   "execution_count": 16,
   "metadata": {},
   "outputs": [],
   "source": [
    "MIN_VAL = 0\n",
    "MAX_VAL = 1000\n",
    "CARDINALITY = 50"
   ]
  },
  {
   "cell_type": "markdown",
   "metadata": {},
   "source": [
    "#### Generate the array"
   ]
  },
  {
   "cell_type": "code",
   "execution_count": 17,
   "metadata": {},
   "outputs": [
    {
     "name": "stdout",
     "output_type": "stream",
     "text": [
      "[52, 63, 64, 93, 122, 140, 163, 184, 185, 197, 207, 252, 263, 299, 321, 360, 378, 378, 405, 417, 422, 444, 462, 476, 513, 519, 524, 537, 539, 546, 561, 568, 595, 615, 643, 668, 690, 692, 709, 715, 723, 750, 760, 824, 870, 881, 914, 918, 928, 941]\n"
     ]
    }
   ],
   "source": [
    "array = generate_random_array(MIN_VAL, MAX_VAL, CARDINALITY)\n",
    "print(sorted(array))"
   ]
  },
  {
   "cell_type": "markdown",
   "metadata": {},
   "source": [
    "#### Make an ArraySorter\n",
    "The `ArraySearcher` class will ensure any array passed to it is sorted before applying a search algorithm.  Once initialised, it can also choose its own *query_val*."
   ]
  },
  {
   "cell_type": "code",
   "execution_count": 18,
   "metadata": {},
   "outputs": [
    {
     "name": "stdout",
     "output_type": "stream",
     "text": [
      "690\n"
     ]
    }
   ],
   "source": [
    "searcher = ArraySearcher(array)\n",
    "query_val = searcher.get_random_array_item()\n",
    "print(query_val)"
   ]
  },
  {
   "cell_type": "markdown",
   "metadata": {},
   "source": [
    "#### Apply each search algorithm in turn"
   ]
  },
  {
   "cell_type": "code",
   "execution_count": 19,
   "metadata": {},
   "outputs": [
    {
     "name": "stdout",
     "output_type": "stream",
     "text": [
      "Iteration:   0 | Starting info        | Query value: 690 | Bottom index:  0 | Top index: 49 | Bottom value:  52 | Top value: 941\n",
      "The query value (690) was found at index 36 (of the sorted array) after 2 iteration(s)\n",
      "With interpolation method it took 2 search step(s) to find the query value.\n",
      "Iteration:   0 | Starting info        | Query value: 690 | Bottom index:  0 | Top index: 49 | Bottom value:  52 | Top value: 941\n",
      "The query value (690) was found at index 36 (of the sorted array) after 2 iteration(s)\n",
      "With mixed method it took 2 search step(s) to find the query value.\n",
      "Iteration:   0 | Starting info        | Query value: 690 | Bottom index:  0 | Top index: 49 | Bottom value:  52 | Top value: 941\n",
      "The query value (690) was found at index 35 (of the sorted array) after 5 iteration(s)\n",
      "With binary method it took 5 search step(s) to find the query value.\n"
     ]
    }
   ],
   "source": [
    "results = searcher.compare_methods(query_val, verbose=True)"
   ]
  },
  {
   "cell_type": "markdown",
   "metadata": {},
   "source": [
    "Running the `compare_methods()` function returns a dictionary that summarises number of iterations used by each method to find the *query_val*."
   ]
  },
  {
   "cell_type": "code",
   "execution_count": 20,
   "metadata": {},
   "outputs": [
    {
     "data": {
      "text/plain": [
       "{'interpolation': 2, 'mixed': 2, 'binary': 5}"
      ]
     },
     "execution_count": 20,
     "metadata": {},
     "output_type": "execute_result"
    }
   ],
   "source": [
    "results"
   ]
  },
  {
   "cell_type": "markdown",
   "metadata": {},
   "source": [
    "### Testing increasing cardinalities\n",
    "It is interesting to see how the different methods compare as we increase the length (cardinality) of the input array.  To do this, we can make use of the `run_tests()` method from `interpolation_search.py`."
   ]
  },
  {
   "cell_type": "code",
   "execution_count": 21,
   "metadata": {},
   "outputs": [],
   "source": [
    "def run_tests(start_cardinality, growth_mode, growth_factor, growth_steps, repeats, \n",
    "              min_array_val, max_val_factor):\n",
    "    \"\"\"Runs repeated tests on each provided cardinality, generating a random array\n",
    "    each time and comparing each splitting method on that array.\n",
    "\n",
    "    Args:\n",
    "        start_cardinality (int): The cardinality to start with.\n",
    "        growth_mode (str): Whether to grow the cardinality arithmetically \n",
    "        ('arithmetic'), or geometrically ('geometric').\n",
    "        growth_factor (int): The amount to grow the cardinality by on each step.\n",
    "        growth_steps (int): The number of times to grow the cardinality.\n",
    "        repeats (int): Number of repeats.\n",
    "        min_array_val (int): Minimum possible value in the array.\n",
    "        max_val_factor (int): Scaling factor to set the maximum possible\n",
    "                              value in the array by multiplying by the cardinality.\n",
    "\n",
    "    Returns:\n",
    "        list[dicts]: A list of dictionaries of length 'repeats'.\n",
    "                     Keys are the method names, plus 'cardinality'.\n",
    "                     Values are the method absolute subset differences, \n",
    "                     plus cardinality\n",
    "    \"\"\"\n",
    "    testing_results = []\n",
    "    for _ in range(repeats):\n",
    "        cardinality = start_cardinality\n",
    "        for step in range(growth_steps):\n",
    "            if growth_mode == 'arithmetic':\n",
    "                cardinality = cardinality + (step * growth_factor)\n",
    "            elif growth_mode == 'geometric':\n",
    "                cardinality = cardinality * (step + 1) * growth_factor\n",
    "\n",
    "            array = generate_random_array(min_val=min_array_val, \n",
    "                                          max_val=max_val_factor * cardinality,\n",
    "                                          cardinality=cardinality)\n",
    "\n",
    "            searcher = ArraySearcher(array)\n",
    "            query_val = searcher.get_random_array_item()\n",
    "            results = searcher.compare_methods(query_val)\n",
    "            results['cardinality'] = cardinality\n",
    "            testing_results.append(results)\n",
    "    return testing_results\n"
   ]
  },
  {
   "cell_type": "markdown",
   "metadata": {},
   "source": [
    "This convenience function allows us to start with a cardinality value (*start_cardinality*), and grow this by *growth_factor* for *growth_steps* steps.  Depending on *growth_mode*, the steps are either *arithmetic* or *geometric*.\n",
    "\n",
    "The geometric steps give a real performance problem(!), so we will limit parameters accordingly."
   ]
  },
  {
   "cell_type": "markdown",
   "metadata": {},
   "source": [
    "#### Input parameters"
   ]
  },
  {
   "cell_type": "code",
   "execution_count": 22,
   "metadata": {},
   "outputs": [],
   "source": [
    "MIN_ARRAY_VAL = 1\n",
    "START_CARDINALITY = 10\n",
    "MAX_VAL_FACTOR = 10\n",
    "GROWTH_STEPS = 6\n",
    "GROWTH_FACTOR = 2\n",
    "REPEATS = 100"
   ]
  },
  {
   "cell_type": "markdown",
   "metadata": {},
   "source": [
    "#### Run the tests"
   ]
  },
  {
   "cell_type": "code",
   "execution_count": 23,
   "metadata": {},
   "outputs": [],
   "source": [
    "for growth_mode in ['arithmetic', 'geometric']:\n",
    "    testing_results = run_tests(start_cardinality=START_CARDINALITY, \n",
    "                                growth_mode=growth_mode,\n",
    "                                growth_factor=GROWTH_FACTOR, \n",
    "                                growth_steps=GROWTH_STEPS, \n",
    "                                repeats=REPEATS,\n",
    "                                min_array_val=MIN_ARRAY_VAL, \n",
    "                                max_val_factor=MAX_VAL_FACTOR)"
   ]
  },
  {
   "cell_type": "code",
   "execution_count": 24,
   "metadata": {},
   "outputs": [
    {
     "data": {
      "text/html": [
       "<div>\n",
       "<style scoped>\n",
       "    .dataframe tbody tr th:only-of-type {\n",
       "        vertical-align: middle;\n",
       "    }\n",
       "\n",
       "    .dataframe tbody tr th {\n",
       "        vertical-align: top;\n",
       "    }\n",
       "\n",
       "    .dataframe thead th {\n",
       "        text-align: right;\n",
       "    }\n",
       "</style>\n",
       "<table border=\"1\" class=\"dataframe\">\n",
       "  <thead>\n",
       "    <tr style=\"text-align: right;\">\n",
       "      <th></th>\n",
       "      <th>interpolation</th>\n",
       "      <th>mixed</th>\n",
       "      <th>binary</th>\n",
       "      <th>cardinality</th>\n",
       "    </tr>\n",
       "  </thead>\n",
       "  <tbody>\n",
       "    <tr>\n",
       "      <th>0</th>\n",
       "      <td>2</td>\n",
       "      <td>3</td>\n",
       "      <td>3</td>\n",
       "      <td>20</td>\n",
       "    </tr>\n",
       "    <tr>\n",
       "      <th>1</th>\n",
       "      <td>2</td>\n",
       "      <td>2</td>\n",
       "      <td>3</td>\n",
       "      <td>80</td>\n",
       "    </tr>\n",
       "    <tr>\n",
       "      <th>2</th>\n",
       "      <td>3</td>\n",
       "      <td>4</td>\n",
       "      <td>8</td>\n",
       "      <td>480</td>\n",
       "    </tr>\n",
       "    <tr>\n",
       "      <th>3</th>\n",
       "      <td>3</td>\n",
       "      <td>4</td>\n",
       "      <td>11</td>\n",
       "      <td>3840</td>\n",
       "    </tr>\n",
       "    <tr>\n",
       "      <th>4</th>\n",
       "      <td>4</td>\n",
       "      <td>5</td>\n",
       "      <td>12</td>\n",
       "      <td>38400</td>\n",
       "    </tr>\n",
       "    <tr>\n",
       "      <th>...</th>\n",
       "      <td>...</td>\n",
       "      <td>...</td>\n",
       "      <td>...</td>\n",
       "      <td>...</td>\n",
       "    </tr>\n",
       "    <tr>\n",
       "      <th>595</th>\n",
       "      <td>3</td>\n",
       "      <td>3</td>\n",
       "      <td>4</td>\n",
       "      <td>80</td>\n",
       "    </tr>\n",
       "    <tr>\n",
       "      <th>596</th>\n",
       "      <td>5</td>\n",
       "      <td>8</td>\n",
       "      <td>8</td>\n",
       "      <td>480</td>\n",
       "    </tr>\n",
       "    <tr>\n",
       "      <th>597</th>\n",
       "      <td>3</td>\n",
       "      <td>4</td>\n",
       "      <td>11</td>\n",
       "      <td>3840</td>\n",
       "    </tr>\n",
       "    <tr>\n",
       "      <th>598</th>\n",
       "      <td>3</td>\n",
       "      <td>4</td>\n",
       "      <td>12</td>\n",
       "      <td>38400</td>\n",
       "    </tr>\n",
       "    <tr>\n",
       "      <th>599</th>\n",
       "      <td>4</td>\n",
       "      <td>7</td>\n",
       "      <td>18</td>\n",
       "      <td>460800</td>\n",
       "    </tr>\n",
       "  </tbody>\n",
       "</table>\n",
       "<p>600 rows × 4 columns</p>\n",
       "</div>"
      ],
      "text/plain": [
       "     interpolation  mixed  binary  cardinality\n",
       "0                2      3       3           20\n",
       "1                2      2       3           80\n",
       "2                3      4       8          480\n",
       "3                3      4      11         3840\n",
       "4                4      5      12        38400\n",
       "..             ...    ...     ...          ...\n",
       "595              3      3       4           80\n",
       "596              5      8       8          480\n",
       "597              3      4      11         3840\n",
       "598              3      4      12        38400\n",
       "599              4      7      18       460800\n",
       "\n",
       "[600 rows x 4 columns]"
      ]
     },
     "execution_count": 24,
     "metadata": {},
     "output_type": "execute_result"
    }
   ],
   "source": [
    "testing_df = pd.DataFrame(testing_results)\n",
    "testing_df"
   ]
  },
  {
   "cell_type": "markdown",
   "metadata": {},
   "source": [
    "### Plotting with Seaborn\n",
    "The above shape of the data is convenient for readability, but not so good for certain plotting approaches.  The `seaborn` package makes plotting data (including data from a `pandas.DataFrame`) easy, but it is best to provide the data in a \"tall, skinny\" format."
   ]
  },
  {
   "cell_type": "markdown",
   "metadata": {},
   "source": [
    "#### Convert raw results into tall-skinny DataFrame\n",
    "The raw data can be unpivotted using `pandas.melt()`.  This gives us the tall, skinny version of the output data where each method appears not as a column, but as a value in a single 'method' column."
   ]
  },
  {
   "cell_type": "code",
   "execution_count": 25,
   "metadata": {},
   "outputs": [
    {
     "data": {
      "text/html": [
       "<div>\n",
       "<style scoped>\n",
       "    .dataframe tbody tr th:only-of-type {\n",
       "        vertical-align: middle;\n",
       "    }\n",
       "\n",
       "    .dataframe tbody tr th {\n",
       "        vertical-align: top;\n",
       "    }\n",
       "\n",
       "    .dataframe thead th {\n",
       "        text-align: right;\n",
       "    }\n",
       "</style>\n",
       "<table border=\"1\" class=\"dataframe\">\n",
       "  <thead>\n",
       "    <tr style=\"text-align: right;\">\n",
       "      <th></th>\n",
       "      <th>cardinality</th>\n",
       "      <th>method</th>\n",
       "      <th>iterations</th>\n",
       "    </tr>\n",
       "  </thead>\n",
       "  <tbody>\n",
       "    <tr>\n",
       "      <th>0</th>\n",
       "      <td>20</td>\n",
       "      <td>interpolation</td>\n",
       "      <td>2</td>\n",
       "    </tr>\n",
       "    <tr>\n",
       "      <th>1</th>\n",
       "      <td>80</td>\n",
       "      <td>interpolation</td>\n",
       "      <td>2</td>\n",
       "    </tr>\n",
       "    <tr>\n",
       "      <th>2</th>\n",
       "      <td>480</td>\n",
       "      <td>interpolation</td>\n",
       "      <td>3</td>\n",
       "    </tr>\n",
       "    <tr>\n",
       "      <th>3</th>\n",
       "      <td>3840</td>\n",
       "      <td>interpolation</td>\n",
       "      <td>3</td>\n",
       "    </tr>\n",
       "    <tr>\n",
       "      <th>4</th>\n",
       "      <td>38400</td>\n",
       "      <td>interpolation</td>\n",
       "      <td>4</td>\n",
       "    </tr>\n",
       "    <tr>\n",
       "      <th>...</th>\n",
       "      <td>...</td>\n",
       "      <td>...</td>\n",
       "      <td>...</td>\n",
       "    </tr>\n",
       "    <tr>\n",
       "      <th>1795</th>\n",
       "      <td>80</td>\n",
       "      <td>binary</td>\n",
       "      <td>4</td>\n",
       "    </tr>\n",
       "    <tr>\n",
       "      <th>1796</th>\n",
       "      <td>480</td>\n",
       "      <td>binary</td>\n",
       "      <td>8</td>\n",
       "    </tr>\n",
       "    <tr>\n",
       "      <th>1797</th>\n",
       "      <td>3840</td>\n",
       "      <td>binary</td>\n",
       "      <td>11</td>\n",
       "    </tr>\n",
       "    <tr>\n",
       "      <th>1798</th>\n",
       "      <td>38400</td>\n",
       "      <td>binary</td>\n",
       "      <td>12</td>\n",
       "    </tr>\n",
       "    <tr>\n",
       "      <th>1799</th>\n",
       "      <td>460800</td>\n",
       "      <td>binary</td>\n",
       "      <td>18</td>\n",
       "    </tr>\n",
       "  </tbody>\n",
       "</table>\n",
       "<p>1800 rows × 3 columns</p>\n",
       "</div>"
      ],
      "text/plain": [
       "      cardinality         method  iterations\n",
       "0              20  interpolation           2\n",
       "1              80  interpolation           2\n",
       "2             480  interpolation           3\n",
       "3            3840  interpolation           3\n",
       "4           38400  interpolation           4\n",
       "...           ...            ...         ...\n",
       "1795           80         binary           4\n",
       "1796          480         binary           8\n",
       "1797         3840         binary          11\n",
       "1798        38400         binary          12\n",
       "1799       460800         binary          18\n",
       "\n",
       "[1800 rows x 3 columns]"
      ]
     },
     "execution_count": 25,
     "metadata": {},
     "output_type": "execute_result"
    }
   ],
   "source": [
    "tall_df = pd.melt(testing_df, id_vars=['cardinality'],\n",
    "                  var_name='method', value_name='iterations')\n",
    "tall_df"
   ]
  },
  {
   "cell_type": "markdown",
   "metadata": {},
   "source": [
    "#### Plot\n",
    "Seaborn's `lineplot()` method is an appropriate choice.  This method will plot the mean of the data, and can automatically show variation from the mean in a number of ways.  As we are probably most interested in how confident we are in the predicted mean values, 95% confidence intervals have been chosen (rather than standard deviations)."
   ]
  },
  {
   "cell_type": "code",
   "execution_count": 26,
   "metadata": {},
   "outputs": [
    {
     "data": {
      "image/png": "[encoded data removed]",
      "text/plain": [
       "<Figure size 864x648 with 1 Axes>"
      ]
     },
     "metadata": {},
     "output_type": "display_data"
    }
   ],
   "source": [
    "fig, ax = plt.subplots(figsize=(12, 9), facecolor='white')\n",
    "ax = sns.lineplot(data=tall_df, x='cardinality', y='iterations', hue='method', ci=95)\n",
    "ax.set_xlabel('multiset cardinality')\n",
    "ax.set_xscale('log', base=2)\n",
    "ax.set_ylabel('mean number of iterations')\n",
    "# Put legend outside plot\n",
    "ax.legend(bbox_to_anchor=(1.02, 1), loc='upper left', borderaxespad=0)\n",
    "# Underscore assignment to supress Text object output\n",
    "_ = ax.set_title(f'Comparison of multiset searching methods ({REPEATS} repeats)')"
   ]
  },
  {
   "cell_type": "markdown",
   "metadata": {},
   "source": [
    "Both of the above steps can be conveniently run by calling the `seaborn_plot()` method from `partition_problem.py`.  The inputs to this function are simply the raw result dictionary list, and the list of cardinality values used to generate the results:\n",
    "\n",
    "```python\n",
    "fig = seaborn_plot(results=testing_results, repeats=REPEATS)\n",
    "```"
   ]
  }
 ],
 "metadata": {
  "interpreter": {
   "hash": "20a857c29627ded6f440e87dbea4274010e68043cc0727bdcc3ecb7cc9e553d7"
  },
  "kernelspec": {
   "display_name": "Python 3.9.11 ('IST')",
   "language": "python",
   "name": "python3"
  },
  "language_info": {
   "codemirror_mode": {
    "name": "ipython",
    "version": 3
   },
   "file_extension": ".py",
   "mimetype": "text/x-python",
   "name": "python",
   "nbconvert_exporter": "python",
   "pygments_lexer": "ipython3",
   "version": "3.9.12"
  },
  "orig_nbformat": 4
 },
 "nbformat": 4,
 "nbformat_minor": 2
}
